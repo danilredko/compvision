{
 "cells": [
  {
   "cell_type": "markdown",
   "metadata": {},
   "source": [
    "__CSC420__ <br>\n",
    "Assignment 3 <br>\n",
    "Danil Redko "
   ]
  },
  {
   "cell_type": "code",
   "execution_count": 1,
   "metadata": {},
   "outputs": [],
   "source": [
    "import numpy as np\n",
    "import matplotlib.pyplot as plt\n",
    "import cv2\n",
    "from scipy.spatial.distance import euclidean as euc\n",
    "import matplotlib.cm as cm\n",
    "%matplotlib inline\n"
   ]
  },
  {
   "cell_type": "markdown",
   "metadata": {},
   "source": [
    "Upload the images and transfrom from "
   ]
  },
  {
   "cell_type": "code",
   "execution_count": 2,
   "metadata": {},
   "outputs": [],
   "source": [
    "reference = cv2.imread('reference.png', 1)\n",
    "test1 = cv2.imread('test.png', 1) \n",
    "test2 = cv2.imread('test2.png',1) \n",
    "images = [reference, test1, test2]"
   ]
  },
  {
   "cell_type": "code",
   "execution_count": 3,
   "metadata": {},
   "outputs": [],
   "source": [
    "def get_interest_points(img, showAllpoints=True):\n",
    "    sift = cv2.xfeatures2d.SIFT_create()\n",
    "    gray = cv2.cvtColor(img,cv2.COLOR_BGR2GRAY)\n",
    "    kp, des = sift.detectAndCompute(gray, None)\n",
    "    if not showAllpoints:\n",
    "        kp=kp[:100]\n",
    "    return cv2.drawKeypoints(gray, kp, img, flags=cv2.DRAW_MATCHES_FLAGS_DRAW_RICH_KEYPOINTS), kp, des"
   ]
  },
  {
   "cell_type": "code",
   "execution_count": 4,
   "metadata": {},
   "outputs": [],
   "source": [
    "def matching(img1, img2):\n",
    "    \n",
    "    _, kp1, des1 = get_interest_points(img1)\n",
    "    _, kp2, des2 = get_interest_points(img2)\n",
    "    match = []\n",
    "    kp_diff = []\n",
    "\n",
    "    for j in range(0, len(kp1)):\n",
    "        \n",
    "        \n",
    "\n",
    "        for i in range(0, len(kp2)):\n",
    "            euc_dist = euc(des1[j], des2[i])\n",
    "            if euc_dist < 100:\n",
    "                kp_diff.append(euc_dist)\n",
    "                match.append([kp1[j],kp2[i]])\n",
    "                \n",
    "\n",
    "        '''\n",
    "        min_diff = np.min(kp_diff)\n",
    "        second_min = np.min(np.delete(kp_diff, [np.argmin(kp_diff)]))\n",
    "\n",
    "        if np.divide(min_diff, second_min) < 0.8:\n",
    "\n",
    "            des2arg = np.argmin(kp_diff)\n",
    "            \n",
    "            match.append([kp1[j],kp2[des2arg]])\n",
    "        ''' \n",
    "    three_best = np.argpartition(kp_diff, 3)[:3]\n",
    "        \n",
    "    match1 = match[three_best[0]]\n",
    "    \n",
    "    match2 = match[three_best[1]]\n",
    "    \n",
    "    match3 = match[three_best[2]]\n",
    "        \n",
    "        \n",
    "    return match1, match2, match3\n",
    "\n",
    "\n"
   ]
  },
  {
   "cell_type": "code",
   "execution_count": 5,
   "metadata": {},
   "outputs": [],
   "source": [
    "def match_images(img1, img2):\n",
    "    \n",
    "    img1_show = img1.copy()\n",
    "    img2_show = img2.copy()\n",
    "    \n",
    "    kp1, kp2, kp3 = matching(img1, img2)\n",
    "    \n",
    "    \n",
    "    x1, y1 = kp1[0].pt \n",
    "    x2, y2 = kp1[1].pt\n",
    "    \n",
    "    x3, y3 = kp2[0].pt \n",
    "    x4, y4 = kp2[1].pt\n",
    "    \n",
    "    x5, y5 = kp3[0].pt \n",
    "    x6, y6 = kp3[1].pt\n",
    "    \n",
    "    \n",
    "    f = plt.figure(figsize=(100,100))\n",
    "    f.add_subplot(1,2, 1)\n",
    "    plt.scatter(x1, y1, color='r', linewidth=50)\n",
    "    plt.scatter(x3, y3, color='b',  linewidth=50)\n",
    "    plt.scatter(x5, y5, color='y',  linewidth=50)\n",
    "    plt.imshow(img1_show[:,:,::-1])\n",
    "    f.add_subplot(1,2,2)\n",
    "    plt.imshow(img2_show[:,:,::-1])\n",
    "    plt.scatter(x2, y2, color='r',  linewidth=50)\n",
    "    plt.scatter(x4, y4, color='b',  linewidth=50)\n",
    "    plt.scatter(x6, y6, color='y',  linewidth=50)\n",
    "    plt.show(block=True)\n",
    "\n",
    "    \n",
    "    \n",
    "    \n",
    "    "
   ]
  },
  {
   "cell_type": "code",
   "execution_count": null,
   "metadata": {},
   "outputs": [],
   "source": [
    "match_images(images[0], images[1])"
   ]
  },
  {
   "cell_type": "code",
   "execution_count": null,
   "metadata": {},
   "outputs": [],
   "source": []
  }
 ],
 "metadata": {
  "kernelspec": {
   "display_name": "Python 2",
   "language": "python",
   "name": "python2"
  },
  "language_info": {
   "codemirror_mode": {
    "name": "ipython",
    "version": 2
   },
   "file_extension": ".py",
   "mimetype": "text/x-python",
   "name": "python",
   "nbconvert_exporter": "python",
   "pygments_lexer": "ipython2",
   "version": "2.7.15"
  }
 },
 "nbformat": 4,
 "nbformat_minor": 2
}
