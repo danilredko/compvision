{
 "cells": [
  {
   "cell_type": "code",
   "execution_count": 1,
   "metadata": {},
   "outputs": [],
   "source": [
    "from sklearn.cluster import MiniBatchKMeans\n",
    "from sklearn.datasets.samples_generator import make_blobs\n",
    "import numpy as np\n",
    "import matplotlib.pyplot as plt\n",
    "from scipy.spatial.distance import euclidean as euc"
   ]
  },
  {
   "cell_type": "markdown",
   "metadata": {},
   "source": [
    "I've decided to make a visualization of the K - Means clustering. We'll store all the centers of clusters in a tree structure. So we need to make a Node class to store the values. Simple class where Node will have a value and its children."
   ]
  },
  {
   "cell_type": "code",
   "execution_count": 2,
   "metadata": {},
   "outputs": [],
   "source": [
    "class Node(object):\n",
    "    def __init__(self, data):\n",
    "        self.data = data\n",
    "        self.children = []\n",
    "\n",
    "    def add_child(self, obj):\n",
    "        self.children.append(obj)"
   ]
  },
  {
   "cell_type": "markdown",
   "metadata": {},
   "source": [
    "Recurvise algorithm to count the number of nodes in the tree(not including the head).  "
   ]
  },
  {
   "cell_type": "code",
   "execution_count": 3,
   "metadata": {},
   "outputs": [],
   "source": [
    "def count_nodes(tree):\n",
    "\n",
    "    #Set a counter \n",
    "    counter = 0\n",
    "    \n",
    "    #Set a condition where a recursion needs to return a value,\n",
    "    #In our case when a tree has no children we return the counter\n",
    "    if len(tree.children) != 0:\n",
    "        \n",
    "        #We go over each child in the tree and call the algorithm on children\n",
    "        for child in tree.children:\n",
    "            \n",
    "            #Counter contains of the number of nodes a child has and + 1 for itself. \n",
    "            counter = counter + count_nodes(child) + 1\n",
    "\n",
    "    return counter"
   ]
  },
  {
   "cell_type": "markdown",
   "metadata": {},
   "source": [
    "The following code constucts the tree for 2d data. "
   ]
  },
  {
   "cell_type": "code",
   "execution_count": 4,
   "metadata": {},
   "outputs": [],
   "source": [
    "def construct2d_tree(cluster, number_of_clusters, center,  model, max_depth, depth):\n",
    "\n",
    "    #Create a tree by setting the value \n",
    "    tree = Node(center)\n",
    "    data = Node(cluster)\n",
    "\n",
    "    #While maximum depth is not reached continue clustering \n",
    "    if max_depth > depth:\n",
    "        \n",
    "        #Fit the model given using the cluster\n",
    "        model.fit(cluster)\n",
    "        #Get centers of the clusters\n",
    "        centers = model.cluster_centers_\n",
    "        #Get the labels of the clusters\n",
    "        labels = model.labels_\n",
    "        \n",
    "        #Now for each cluster repeat the following:\n",
    "        for i in range(number_of_clusters):\n",
    "\n",
    "            #By using labels, get the data for specific cluster\n",
    "            new_cluster = cluster[np.where(labels == i, True, False)]\n",
    "            \n",
    "            #Call the same algorithm on the cluster we got above\n",
    "            child, data_child = construct2d_tree(new_cluster, number_of_clusters, \n",
    "                                                 centers[i],  model, max_depth, depth+1)\n",
    "            \n",
    "            #Add the clusters and the new centers to the tree\n",
    "            tree.add_child(child)\n",
    "            data.add_child(data_child)\n",
    "\n",
    "    return tree, data"
   ]
  },
  {
   "cell_type": "markdown",
   "metadata": {},
   "source": [
    "The function plots the scatter plot for different branch factors where each cluster has its own color."
   ]
  },
  {
   "cell_type": "code",
   "execution_count": 6,
   "metadata": {},
   "outputs": [],
   "source": [
    "def my_plot(tree, data, max_depth, branch_factor):\n",
    "    \n",
    "    # By layer, I mean the level of the tree. \n",
    "\n",
    "    layers_tree = []\n",
    "    layers_data = []\n",
    "    # Adding first childen to the lists for data, and for tree with cluster centers \n",
    "    layers_data.append(data.children)\n",
    "    layers_tree.append(tree.children)\n",
    "    \n",
    "    f = plt.figure(figsize=(100,100))\n",
    "\n",
    "    for level in range(max_depth):\n",
    "        \n",
    "        #get a list of the nodes at each level and append it to the list containing all layers(levels)\n",
    "        layer_tree_item =np.array([layers_tree[level][i].children for i in range(len(layers_tree[level]))]).flatten()\n",
    "        layers_tree.append(layer_tree_item)\n",
    "        layer_data_item =np.array([layers_data[level][i].children for i in range(len(layers_data[level]))]).flatten()\n",
    "        layers_data.append(layer_data_item)\n",
    "    \n",
    "    #First plot the first cluster with no K-means algorithm applied\n",
    "    plt.subplot(2, 2, 1)\n",
    "    plt.scatter(data.data[:, [0]], data.data[:, [1]])\n",
    "    plt.scatter(tree.data[0][0], tree.data[0][1], marker='^', color='black')\n",
    "    plt.title('Iteration: 0 \\n Branch Factor: {}'.format(branch_factor))\n",
    "\n",
    "    # Now go over each level of the tree, and plot the clusters for each branch factor \n",
    "    for num_layers in range(max_depth):\n",
    "\n",
    "        plt.subplot(2, 2, num_layers+2)\n",
    "        #Plot the data using different colors to visualize the clusters \n",
    "        for data_item, tree_item in zip(layers_data[num_layers], layers_tree[num_layers]):\n",
    "            plt.title('Iteration: {} \\n Branch Factor: {}'.format(num_layers+1, branch_factor))\n",
    "            plt.scatter(data_item.data[:, [0]], data_item.data[:, [1]],s = 20)\n",
    "            # Plot clusters' centers as well\n",
    "            plt.scatter(tree_item.data[0], tree_item.data[1], marker='^', color='black')\n",
    "    plt.suptitle('Hierarchical K-Means for 2D')\n",
    "    plt.show()"
   ]
  },
  {
   "cell_type": "code",
   "execution_count": 12,
   "metadata": {},
   "outputs": [],
   "source": [
    "def main():\n",
    "    \n",
    "    # Now we can set up a model, and then graph the results: \n",
    "    \n",
    "    branch_factor = 3\n",
    "    max_depth = 3\n",
    "    \n",
    "    #Get random points\n",
    "    X, y = make_blobs(n_samples=10000, centers=1, n_features=2)\n",
    "    model1 = MiniBatchKMeans(n_clusters=1)\n",
    "    model1.fit(X)\n",
    "    # Get a center of the cluster when all the data used\n",
    "    first_center = model1.cluster_centers_\n",
    "    \n",
    "    # Define model that will be used for constructing 2D tree\n",
    "    model = MiniBatchKMeans(n_clusters=branch_factor, max_iter=100)\n",
    "    tree, data = construct2d_tree(X, branch_factor,  first_center,  model, max_depth, depth=0)\n",
    "    number_of_nodes = count_nodes(tree)\n",
    "    #Get the number of nodes in the tree\n",
    "    print('Tree has {} nodes'.format(number_of_nodes))\n",
    "    #Plot the results \n",
    "    my_plot(tree, data, max_depth, branch_factor)"
   ]
  }
 ],
 "metadata": {
  "kernelspec": {
   "display_name": "Python 2",
   "language": "python",
   "name": "python2"
  },
  "language_info": {
   "codemirror_mode": {
    "name": "ipython",
    "version": 2.0
   },
   "file_extension": ".py",
   "mimetype": "text/x-python",
   "name": "python",
   "nbconvert_exporter": "python",
   "pygments_lexer": "ipython2",
   "version": "2.7.15"
  }
 },
 "nbformat": 4,
 "nbformat_minor": 2
}